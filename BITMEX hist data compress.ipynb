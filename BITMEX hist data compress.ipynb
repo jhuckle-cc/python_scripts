{
 "cells": [
  {
   "cell_type": "code",
   "execution_count": 1,
   "metadata": {},
   "outputs": [
    {
     "data": {
      "text/html": [
       "<style>.container {width:100% !important} <\\style>"
      ],
      "text/plain": [
       "<IPython.core.display.HTML object>"
      ]
     },
     "metadata": {},
     "output_type": "display_data"
    }
   ],
   "source": [
    "import pandas as pd\n",
    "import numpy as np\n",
    "import datetime\n",
    "import time\n",
    "from IPython.display import display, HTML\n",
    "display(HTML(\"<style>.container {width:100% !important} <\\style>\"))\n",
    "import matplotlib.pyplot as plt\n",
    "%matplotlib inline"
   ]
  },
  {
   "cell_type": "markdown",
   "metadata": {},
   "source": [
    "## working out costs"
   ]
  },
  {
   "cell_type": "code",
   "execution_count": 2,
   "metadata": {},
   "outputs": [
    {
     "data": {
      "text/plain": [
       "(10.08, 5.04)"
      ]
     },
     "execution_count": 2,
     "metadata": {},
     "output_type": "execute_result"
    }
   ],
   "source": [
    "taker = 0.075/100\n",
    "btc = 6720\n",
    "margin = 0.075/100\n",
    "\n",
    "fee = btc*taker*2\n",
    "profit = btc*margin\n",
    "fee,profit"
   ]
  },
  {
   "cell_type": "markdown",
   "metadata": {},
   "source": [
    "## function to work out contract specs"
   ]
  },
  {
   "cell_type": "code",
   "execution_count": 3,
   "metadata": {},
   "outputs": [],
   "source": [
    "## change to the last friday of every month\n",
    "from dateutil.relativedelta import relativedelta, FR\n",
    "\n",
    "def contract_sym(date):\n",
    "    contracts = [[datetime.datetime(date.year,3,1,12,0)+relativedelta(day=32)+relativedelta(weekday=FR(-1)),\"H\"],\n",
    "                 [datetime.datetime(date.year,6,1,12,0)+relativedelta(day=32)+relativedelta(weekday=FR(-1)),\"M\"],\n",
    "                 [datetime.datetime(date.year,9,1,12,0)+relativedelta(day=32)+relativedelta(weekday=FR(-1)),\"U\"],\n",
    "                 [datetime.datetime(date.year,12,1,12,0)+relativedelta(day=32)+relativedelta(weekday=FR(-1)),\"Z\"],\n",
    "                 [datetime.datetime(date.year+1,3,1,12,0)+relativedelta(day=32)+relativedelta(weekday=FR(-1)),\"H\"],\n",
    "                 [datetime.datetime(date.year+1,6,1,12,0)+relativedelta(day=32)+relativedelta(weekday=FR(-1)),\"M\"]]\n",
    "    \n",
    "    for x in range(len(contracts)):\n",
    "        if date <= contracts[x][0]:\n",
    "            front_sym = contracts[x][1] + str(contracts[x][0].year)[2:4]\n",
    "            second_sym = contracts[x+1][1] + str(contracts[x+1][0].year)[2:4]\n",
    "            break\n",
    "        else:\n",
    "            continue\n",
    "            \n",
    "    return front_sym,second_sym \n",
    "\n",
    "#start = datetime.datetime(2018,3,28)\n",
    "#front_sym,second_sym = contract_sym(start)\n",
    "#print(front_sym,second_sym)"
   ]
  },
  {
   "cell_type": "markdown",
   "metadata": {},
   "source": [
    "# Choose whether you want to compress tick or put into 1 minute below"
   ]
  },
  {
   "cell_type": "markdown",
   "metadata": {},
   "source": [
    "## Input date you want to analyse here"
   ]
  },
  {
   "cell_type": "markdown",
   "metadata": {},
   "source": []
  },
  {
   "cell_type": "raw",
   "metadata": {},
   "source": [
    "start = datetime.datetime(2017,1,1)\n",
    "while start < datetime.datetime(2017,12,31): #datetime.datetime.now(): \n",
    "    \n",
    "    print(start)\n",
    "    start_str = str(start.strftime(\"%Y%m%d\"))\n",
    "    \n",
    "    front_sym,second_sym = contract_sym(start)\n",
    "    \n",
    "    try:\n",
    "        quote_data = pd.read_csv(r\"https://s3-eu-west-1.amazonaws.com/public.bitmex.com/data/quote/\"+start_str+\".csv.gz\")\n",
    "    except:\n",
    "        start = start+datetime.timedelta(days=1)\n",
    "        continue\n",
    "        \n",
    "    quote_data[\"timestamp\"] = pd.to_datetime(quote_data[\"timestamp\"],format='%Y-%m-%dD%H:%M:%S.%f000')\n",
    "    \n",
    "    quote_data_perp = quote_data[quote_data[\"symbol\"]==\"XBTUSD\"]\n",
    "    quote_data_front = quote_data[quote_data[\"symbol\"]==\"XBT\"+front_sym]\n",
    "    \n",
    "    quote_perp = quote_data_perp.copy()\n",
    "    quote_perp[\"bidPrice_dup\"] = quote_perp[\"bidPrice\"].shift(1)-quote_perp[\"bidPrice\"]\n",
    "    quote_perp[\"askPrice_dup\"] = quote_perp[\"askPrice\"].shift(1)-quote_perp[\"askPrice\"]\n",
    "    quote_perp[\"dup\"] = abs(quote_perp[\"askPrice_dup\"]) + abs(quote_perp[\"bidPrice_dup\"])\n",
    "    quote_perp = quote_perp[quote_perp[\"dup\"]!= 0]\n",
    "    quote_perp = quote_perp.drop([\"bidPrice_dup\",\"askPrice_dup\",\"dup\"],axis=1)\n",
    "    \n",
    "    quote_front = quote_data_front.copy()\n",
    "    quote_front[\"bidPrice_dup\"] = quote_front[\"bidPrice\"].shift(1)-quote_front[\"bidPrice\"]\n",
    "    quote_front[\"askPrice_dup\"] = quote_front[\"askPrice\"].shift(1)-quote_front[\"askPrice\"]\n",
    "    quote_front[\"dup\"] = abs(quote_front[\"askPrice_dup\"]) + abs(quote_front[\"bidPrice_dup\"])\n",
    "    quote_front = quote_front[quote_front[\"dup\"]!= 0]\n",
    "    quote_front = quote_front.drop([\"bidPrice_dup\",\"askPrice_dup\",\"dup\"],axis=1)\n",
    "    \n",
    "    com_data = quote_perp.merge(quote_front,\"outer\",\"timestamp\")\n",
    "    com_data = com_data.sort_values(\"timestamp\").reset_index(drop=True)\n",
    "    \n",
    "    com_data= com_data.ffill(axis=0)\n",
    "    com_data = com_data.dropna()\n",
    "    \n",
    "    com_data.to_csv(r\"C:\\Users\\PC\\Documents\\ArbAlgo\\data\\bitmex_hist_data\"+\"\\\\\"+str(start.date())+\"_combined_strip.csv\")\n",
    "    \n",
    "    start = start+datetime.timedelta(days=1)\n",
    "    \n",
    "print(\"finished!\")"
   ]
  },
  {
   "cell_type": "markdown",
   "metadata": {},
   "source": [
    "# Compress and make into on minute!"
   ]
  },
  {
   "cell_type": "code",
   "execution_count": 8,
   "metadata": {
    "scrolled": false
   },
   "outputs": [
    {
     "name": "stdout",
     "output_type": "stream",
     "text": [
      "2019-03-18 00:00:00\n",
      "done day\n",
      "FINISHED\n"
     ]
    }
   ],
   "source": [
    "start = datetime.datetime(2019,3,18)\n",
    "end = datetime.datetime(2019,3,19) # datetime.datetime.now() #\n",
    "\n",
    "file_start_name = start\n",
    "\n",
    "master = pd.DataFrame()\n",
    "while start < end:    \n",
    "    print(start)\n",
    "    start_str = str(start.strftime(\"%Y%m%d\"))       \n",
    "    try:\n",
    "        quote_data = pd.read_csv(r\"https://s3-eu-west-1.amazonaws.com/public.bitmex.com/data/quote/\"+start_str+\".csv.gz\")\n",
    "    except:\n",
    "        print(start_str,\"not available\")\n",
    "        start = start+datetime.timedelta(days=1)\n",
    "        continue\n",
    "        \n",
    "    quote_data[\"timestamp\"] = pd.to_datetime(quote_data[\"timestamp\"],format='%Y-%m-%dD%H:%M:%S.%f000') \n",
    "    quote_data = quote_data[quote_data[\"symbol\"]==\"XBTUSD\"]\n",
    "    quote_data = quote_data[[\"timestamp\",\"bidPrice\",\"askPrice\"]]\n",
    "    quote_data.set_index(\"timestamp\",inplace=True)\n",
    "    quote_data = quote_data.dropna()\n",
    "    quote_data = quote_data.resample(\"1min\").ohlc()\n",
    "    \n",
    "    master = master.append(quote_data)\n",
    "\n",
    "    #com_data.to_csv(r\"C:\\Users\\PC\\Documents\\ArbAlgo\\data\\bitmex_hist_data\"+\"\\\\\"+str(start.date())+\"_combined_strip.csv\")\n",
    "    \n",
    "    start = start+datetime.timedelta(days=1)\n",
    "    print(\"done day\")\n",
    "print(\"FINISHED\")\n",
    "\n",
    "master = pd.DataFrame(master.to_records())\n",
    "master.columns = [\"timestamp\",\"bid_open\",\"bid_high\",\"bid_low\",\"bid_close\",\"ask_open\",\"ask_high\",\"ask_low\",\"ask_close\"]\n",
    "writer = pd.ExcelWriter(r\"C:\\Users\\cc\\Documents\\market_data\\\\\"+str(file_start_name.date())+\"_to_\"+str(end.date())+\"_1min.xlsx\")\n",
    "master.to_excel(writer,\"Sheet1\")\n",
    "writer.save()"
   ]
  },
  {
   "cell_type": "code",
   "execution_count": null,
   "metadata": {},
   "outputs": [],
   "source": [
    "x = True\n",
    "\n",
    "if not x:\n",
    "    print(\"its not True\")"
   ]
  },
  {
   "cell_type": "markdown",
   "metadata": {},
   "source": [
    "### display candlesticks"
   ]
  },
  {
   "cell_type": "code",
   "execution_count": null,
   "metadata": {},
   "outputs": [],
   "source": [
    "display(master.head())\n",
    "master_data = master[\"bidPrice\"]\n",
    "master_data.loc[:,\"timestamp\"] = master_data.index\n",
    "master_data = master_data[[\"timestamp\",\"open\",\"high\",\"low\",\"close\"]]\n",
    "master_data.head()\n",
    "\n",
    "from highcharts import Highstock\n",
    "from highcharts.highstock.highstock_helper import jsonp_loader\n",
    "H = Highstock()\n",
    "\n",
    "#data_url = 'http://www.highcharts.com/samples/data/jsonp.php?filename=aapl-ohlc.json&callback=?'\n",
    "#data = jsonp_loader(data_url, sub_d = r'(\\/\\*.*\\*\\/)')\n",
    "data = master_data.values.tolist()\n",
    "\n",
    "H.add_data_set(data, 'ohlc', 'Price', dataGrouping = {\n",
    "                            'units' : [[\n",
    "                                'minute', # unit name\n",
    "                                [1,5,15,60] # allowed multiples\n",
    "                                        ]]})\n",
    "\n",
    "##### options ####\n",
    "options = {\n",
    "    \"chart\": {\n",
    "        \"height\":750,\n",
    "        \"width\":1700\n",
    "    },\n",
    "    'rangeSelector' : {\n",
    "        'selected' : 2\n",
    "    },\n",
    "    'title' : {\n",
    "        'text' : 'Bitmex Perpetual'\n",
    "    },\n",
    "}\n",
    "\n",
    "H.set_dict_options(options)\n",
    "\n",
    "H"
   ]
  }
 ],
 "metadata": {
  "kernelspec": {
   "display_name": "Python 3",
   "language": "python",
   "name": "python3"
  },
  "language_info": {
   "codemirror_mode": {
    "name": "ipython",
    "version": 3
   },
   "file_extension": ".py",
   "mimetype": "text/x-python",
   "name": "python",
   "nbconvert_exporter": "python",
   "pygments_lexer": "ipython3",
   "version": "3.7.1"
  }
 },
 "nbformat": 4,
 "nbformat_minor": 2
}
